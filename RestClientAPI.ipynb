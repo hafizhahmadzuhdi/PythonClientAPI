{
 "cells": [
  {
   "cell_type": "markdown",
   "metadata": {},
   "source": [
    "# Welcome to Rest Client API with Python - by Hafizh"
   ]
  },
  {
   "cell_type": "markdown",
   "metadata": {},
   "source": [
    "## 1. How to run\n",
    "### You need to install Python before you run this client. There is one tool that easily can be used that handled all things you need within Anaconda Navigator Application"
   ]
  },
  {
   "cell_type": "markdown",
   "metadata": {},
   "source": [
    "## 2. Install libraries\n",
    "### We use requests libraries at this occassion, perhaps you need to go 'pip install requests'"
   ]
  },
  {
   "cell_type": "markdown",
   "metadata": {},
   "source": [
    "## 3. Deliverable\n",
    "### I will attach two documents for this other client than Java. Python Notebook and PDF file can be found in the deliverable. In case you are unable to install python, PDF file is included with the performed output. So you don't need any other tools"
   ]
  },
  {
   "cell_type": "code",
   "execution_count": 70,
   "metadata": {},
   "outputs": [],
   "source": [
    "import numpy as np\n",
    "import pandas as pd\n",
    "import requests\n",
    "import json"
   ]
  },
  {
   "cell_type": "markdown",
   "metadata": {},
   "source": [
    "### Get All Products "
   ]
  },
  {
   "cell_type": "code",
   "execution_count": 109,
   "metadata": {},
   "outputs": [
    {
     "name": "stdout",
     "output_type": "stream",
     "text": [
      "1 Nikon D5100 Camera 250.0 Eindhoven 101\n",
      "2 Sony PS4 Electronics 171.0 Eindhoven 101\n",
      "3 Canon Printer 1100 Electronics 75.0 Utrecht 101\n",
      "4 Samsung Galaxy S9 Smartphone 750.0 Rotterdam 102\n",
      "5 Phillips Speaker Electronics 123.0 Amsterdam 102\n"
     ]
    }
   ],
   "source": [
    "#Port 3000 is for client, while 9090 as a service hosted in tomcat\n",
    "resp = requests.get('http://localhost:3000/markplaats/rest/markplaats/products/all')\n",
    "if resp.status_code != 200:\n",
    "    #Something wrong\n",
    "    raise ApiError('GET /products/ {}'.format(resp.status_code))\n",
    "for todo_item in resp.json():\n",
    "    print('{} {} {} {} {} {}'.format(todo_item['id'], todo_item['name'], todo_item['category'], todo_item['price'], todo_item['city'], todo_item['seller_id']))"
   ]
  },
  {
   "cell_type": "markdown",
   "metadata": {},
   "source": [
    "### Get All Accounts"
   ]
  },
  {
   "cell_type": "code",
   "execution_count": 4,
   "metadata": {},
   "outputs": [
    {
     "name": "stdout",
     "output_type": "stream",
     "text": [
      "101 hafizh@Gmail.com Hafizh Zuhdi Eindhoven\n",
      "102 gareth@Gmail.com Gareth Forshaw Utrecht\n",
      "103 esther@Gmail.com Esther Nhi Amsterdam\n",
      "104 mesfin@Gmail.com Mesfin Brussels\n",
      "105 deniz@Gmail.com Deniz Eindhoven\n"
     ]
    }
   ],
   "source": [
    "resp = requests.get('http://localhost:3000/markplaats/rest/markplaats/accounts/all')\n",
    "if resp.status_code != 200:\n",
    "    #Something wrong\n",
    "    raise ApiError('GET /accounts/ {}'.format(resp.status_code))\n",
    "for todo_item in resp.json():\n",
    "    print('{} {} {} {}'.format(todo_item['user_id'], todo_item['user_mail'], todo_item['name'], todo_item['password']))"
   ]
  },
  {
   "cell_type": "markdown",
   "metadata": {},
   "source": [
    "### Get Product on ID"
   ]
  },
  {
   "cell_type": "code",
   "execution_count": 50,
   "metadata": {},
   "outputs": [
    {
     "name": "stdout",
     "output_type": "stream",
     "text": [
      "Product : id: 3 name: Canon Printer 1100 category: Electronics price: 75.0 city: Utrecht seller_id101\n"
     ]
    }
   ],
   "source": [
    "payload = {'id':'3'}\n",
    "resp = requests.get('http://localhost:3000/markplaats/rest/markplaats/products', params=payload)\n",
    "x = resp.text\n",
    "y = json.loads(x)\n",
    "if resp.status_code != 200:\n",
    "    #Something wrong\n",
    "    raise ApiError('GET /products/ {}'.format(resp.status_code))\n",
    "print('Product : id: {} name: {} category: {} price: {} city: {} seller_id{}'.format(y['id'], y['name'], y['category'], y['price'], y['city'], y['seller_id']))"
   ]
  },
  {
   "cell_type": "markdown",
   "metadata": {},
   "source": [
    "### Get Account on ID"
   ]
  },
  {
   "cell_type": "code",
   "execution_count": 51,
   "metadata": {},
   "outputs": [
    {
     "name": "stdout",
     "output_type": "stream",
     "text": [
      "user id : 103 mail: esther@Gmail.com name: Esther Nhi category: Amsterdam\n"
     ]
    }
   ],
   "source": [
    "payload = {'user_id':'103'}\n",
    "resp = requests.get('http://localhost:3000/markplaats/rest/markplaats/accounts', params=payload)\n",
    "x = resp.text\n",
    "y = json.loads(x)\n",
    "if resp.status_code != 200:\n",
    "    #Something wrong\n",
    "    raise ApiError('GET /products/ {}'.format(resp.status_code))\n",
    "print('user id : {} mail: {} name: {} category: {}'.format(y['user_id'], y['user_mail'], y['name'], y['password']))"
   ]
  },
  {
   "cell_type": "markdown",
   "metadata": {},
   "source": [
    "### Get Product on City"
   ]
  },
  {
   "cell_type": "code",
   "execution_count": 67,
   "metadata": {},
   "outputs": [
    {
     "name": "stdout",
     "output_type": "stream",
     "text": [
      "1 Nikon D5100 Camera 250.0 Eindhoven 101\n",
      "2 Sony PS4 Electronics 171.0 Eindhoven 101\n"
     ]
    }
   ],
   "source": [
    "city = 'Eindhoven'\n",
    "resp = requests.get('http://localhost:3000/markplaats/rest/markplaats/products/city/'+city)\n",
    "if resp.status_code != 200:\n",
    "    #Something wrong\n",
    "    print('City not found')\n",
    "for todo_item in resp.json():\n",
    "    print('{} {} {} {} {} {}'.format(todo_item['id'], todo_item['name'], todo_item['category'], todo_item['price'], todo_item['city'], todo_item['seller_id']))"
   ]
  },
  {
   "cell_type": "markdown",
   "metadata": {},
   "source": [
    "### Get Product on Category"
   ]
  },
  {
   "cell_type": "code",
   "execution_count": 68,
   "metadata": {},
   "outputs": [
    {
     "name": "stdout",
     "output_type": "stream",
     "text": [
      "2 Sony PS4 Electronics 171.0 Eindhoven 101\n",
      "3 Canon Printer 1100 Electronics 75.0 Utrecht 101\n",
      "5 Phillips Speaker Electronics 123.0 Amsterdam 102\n"
     ]
    }
   ],
   "source": [
    "category = 'Electronics'\n",
    "resp = requests.get('http://localhost:3000/markplaats/rest/markplaats/products/category/'+category)\n",
    "if resp.status_code != 200:\n",
    "    #Something wrong\n",
    "    print('Category not found')\n",
    "for todo_item in resp.json():\n",
    "    print('{} {} {} {} {} {}'.format(todo_item['id'], todo_item['name'], todo_item['category'], todo_item['price'], todo_item['city'], todo_item['seller_id']))"
   ]
  },
  {
   "cell_type": "markdown",
   "metadata": {},
   "source": [
    "### Post the products "
   ]
  },
  {
   "cell_type": "code",
   "execution_count": 89,
   "metadata": {},
   "outputs": [
    {
     "name": "stdout",
     "output_type": "stream",
     "text": [
      "Product has successfully created\n"
     ]
    }
   ],
   "source": [
    "resp = requests.post('http://localhost:3000/markplaats/rest/markplaats/products', data = {'id':6, 'name': 'Xbox One', 'category': 'Electronics', 'price': 200, 'city':'Utrecht', 'seller_id':101})\n",
    "resp.text\n",
    "if resp.status_code != 204:\n",
    "    print('ID already exist')\n",
    "print('Product has successfully created')"
   ]
  },
  {
   "cell_type": "code",
   "execution_count": 90,
   "metadata": {},
   "outputs": [
    {
     "name": "stdout",
     "output_type": "stream",
     "text": [
      "1 Nikon D5100 Camera 250.0 Eindhoven 101\n",
      "2 Sony PS4 Electronics 171.0 Eindhoven 101\n",
      "3 Canon Printer 1100 Electronics 75.0 Utrecht 101\n",
      "4 Samsung Galaxy S9 Smartphone 750.0 Rotterdam 102\n",
      "5 Phillips Speaker Electronics 123.0 Amsterdam 102\n",
      "6 Xbox One Electronics 200.0 Utrecht 101\n"
     ]
    }
   ],
   "source": [
    "#Check if product is in there\n",
    "resp = requests.get('http://localhost:3000/markplaats/rest/markplaats/products/all')\n",
    "if resp.status_code != 200:\n",
    "    #Something wrong\n",
    "    raise ApiError('GET /products/ {}'.format(resp.status_code))\n",
    "for todo_item in resp.json():\n",
    "    print('{} {} {} {} {} {}'.format(todo_item['id'], todo_item['name'], todo_item['category'], todo_item['price'], todo_item['city'], todo_item['seller_id']))"
   ]
  },
  {
   "cell_type": "markdown",
   "metadata": {},
   "source": [
    "### Post the accounts "
   ]
  },
  {
   "cell_type": "code",
   "execution_count": 91,
   "metadata": {},
   "outputs": [
    {
     "name": "stdout",
     "output_type": "stream",
     "text": [
      "Account has successfully created\n"
     ]
    }
   ],
   "source": [
    "resp = requests.post('http://localhost:3000/markplaats/rest/markplaats/accounts', data = {'user_id':106, 'user_mail': 'test', 'name': 'test', 'password': 'test'})\n",
    "resp.text\n",
    "if resp.status_code != 204:\n",
    "    print('ID already exist')\n",
    "print('Account has successfully created')"
   ]
  },
  {
   "cell_type": "code",
   "execution_count": 92,
   "metadata": {},
   "outputs": [
    {
     "name": "stdout",
     "output_type": "stream",
     "text": [
      "101 hafizh@Gmail.com Hafizh Zuhdi Eindhoven\n",
      "102 gareth@Gmail.com Gareth Forshaw Utrecht\n",
      "103 esther@Gmail.com Esther Nhi Amsterdam\n",
      "104 mesfin@Gmail.com Mesfin Brussels\n",
      "105 deniz@Gmail.com Deniz Eindhoven\n",
      "106 test test test\n"
     ]
    }
   ],
   "source": [
    "#Check if product is in there\n",
    "resp = requests.get('http://localhost:3000/markplaats/rest/markplaats/accounts/all')\n",
    "if resp.status_code != 200:\n",
    "    #Something wrong\n",
    "    raise ApiError('GET /accounts/ {}'.format(resp.status_code))\n",
    "for todo_item in resp.json():\n",
    "    print('{} {} {} {}'.format(todo_item['user_id'], todo_item['user_mail'], todo_item['name'], todo_item['password']))"
   ]
  },
  {
   "cell_type": "markdown",
   "metadata": {},
   "source": [
    "### Update products"
   ]
  },
  {
   "cell_type": "code",
   "execution_count": 95,
   "metadata": {
    "scrolled": true
   },
   "outputs": [
    {
     "name": "stdout",
     "output_type": "stream",
     "text": [
      "Product has successfully updated\n"
     ]
    }
   ],
   "source": [
    "resp = requests.put('http://localhost:3000/markplaats/rest/markplaats/products', json = {'id':6, 'name': 'Cooller', 'category': 'Electronics', 'price': 200, 'city':'Utrecht', 'seller_id':101})\n",
    "resp.text\n",
    "if resp.status_code != 204:\n",
    "    print('ID already exist')\n",
    "print('Product has successfully updated')"
   ]
  },
  {
   "cell_type": "code",
   "execution_count": 100,
   "metadata": {},
   "outputs": [
    {
     "name": "stdout",
     "output_type": "stream",
     "text": [
      "1 Nikon D5100 Camera 250.0 Eindhoven 101\n",
      "2 Sony PS4 Electronics 171.0 Eindhoven 101\n",
      "3 Canon Printer 1100 Electronics 75.0 Utrecht 101\n",
      "4 Samsung Galaxy S9 Smartphone 750.0 Rotterdam 102\n",
      "5 Phillips Speaker Electronics 123.0 Amsterdam 102\n",
      "6 Cooller Electronics 200.0 Utrecht 101\n"
     ]
    }
   ],
   "source": [
    "#Check if product is in there\n",
    "resp = requests.get('http://localhost:3000/markplaats/rest/markplaats/products/all')\n",
    "if resp.status_code != 200:\n",
    "    #Something wrong\n",
    "    raise ApiError('GET /products/ {}'.format(resp.status_code))\n",
    "for todo_item in resp.json():\n",
    "    print('{} {} {} {} {} {}'.format(todo_item['id'], todo_item['name'], todo_item['category'], todo_item['price'], todo_item['city'], todo_item['seller_id']))"
   ]
  },
  {
   "cell_type": "markdown",
   "metadata": {},
   "source": [
    "### Update accounts "
   ]
  },
  {
   "cell_type": "code",
   "execution_count": 97,
   "metadata": {
    "scrolled": true
   },
   "outputs": [
    {
     "name": "stdout",
     "output_type": "stream",
     "text": [
      "Account has successfully updated\n"
     ]
    }
   ],
   "source": [
    "resp = requests.put('http://localhost:3000/markplaats/rest/markplaats/accounts', json = {'user_id':106, 'user_mail': 'update', 'name': 'update', 'password': 'update'})\n",
    "resp.text\n",
    "if resp.status_code != 204:\n",
    "    print('ID already exist')\n",
    "print('Account has successfully updated')"
   ]
  },
  {
   "cell_type": "code",
   "execution_count": 99,
   "metadata": {},
   "outputs": [
    {
     "name": "stdout",
     "output_type": "stream",
     "text": [
      "101 hafizh@Gmail.com Hafizh Zuhdi Eindhoven\n",
      "102 gareth@Gmail.com Gareth Forshaw Utrecht\n",
      "103 esther@Gmail.com Esther Nhi Amsterdam\n",
      "104 mesfin@Gmail.com Mesfin Brussels\n",
      "105 deniz@Gmail.com Deniz Eindhoven\n",
      "106 update update update\n"
     ]
    }
   ],
   "source": [
    "#Check if product is in there\n",
    "resp = requests.get('http://localhost:3000/markplaats/rest/markplaats/accounts/all')\n",
    "if resp.status_code != 200:\n",
    "    #Something wrong\n",
    "    raise ApiError('GET /accounts/ {}'.format(resp.status_code))\n",
    "for todo_item in resp.json():\n",
    "    print('{} {} {} {}'.format(todo_item['user_id'], todo_item['user_mail'], todo_item['name'], todo_item['password']))"
   ]
  },
  {
   "cell_type": "markdown",
   "metadata": {},
   "source": [
    "### Delete Accounts "
   ]
  },
  {
   "cell_type": "code",
   "execution_count": 105,
   "metadata": {},
   "outputs": [
    {
     "name": "stdout",
     "output_type": "stream",
     "text": [
      "Account has successfully deleted\n"
     ]
    }
   ],
   "source": [
    "id = '106'\n",
    "resp = requests.delete('http://localhost:3000/markplaats/rest/markplaats/accounts/'+id)\n",
    "if resp.status_code != 204:\n",
    "    print('ID already exist')\n",
    "print('Account has successfully deleted')"
   ]
  },
  {
   "cell_type": "code",
   "execution_count": 106,
   "metadata": {},
   "outputs": [
    {
     "name": "stdout",
     "output_type": "stream",
     "text": [
      "101 hafizh@Gmail.com Hafizh Zuhdi Eindhoven\n",
      "102 gareth@Gmail.com Gareth Forshaw Utrecht\n",
      "103 esther@Gmail.com Esther Nhi Amsterdam\n",
      "104 mesfin@Gmail.com Mesfin Brussels\n",
      "105 deniz@Gmail.com Deniz Eindhoven\n"
     ]
    }
   ],
   "source": [
    "#Check if accounts is in there\n",
    "resp = requests.get('http://localhost:3000/markplaats/rest/markplaats/accounts/all')\n",
    "if resp.status_code != 200:\n",
    "    #Something wrong\n",
    "    raise ApiError('GET /accounts/ {}'.format(resp.status_code))\n",
    "for todo_item in resp.json():\n",
    "    print('{} {} {} {}'.format(todo_item['user_id'], todo_item['user_mail'], todo_item['name'], todo_item['password']))"
   ]
  },
  {
   "cell_type": "markdown",
   "metadata": {},
   "source": [
    "### Delete Product "
   ]
  },
  {
   "cell_type": "code",
   "execution_count": 107,
   "metadata": {},
   "outputs": [
    {
     "name": "stdout",
     "output_type": "stream",
     "text": [
      "Product has successfully deleted\n"
     ]
    }
   ],
   "source": [
    "id = '6'\n",
    "resp = requests.delete('http://localhost:3000/markplaats/rest/markplaats/products/'+id)\n",
    "if resp.status_code != 204:\n",
    "    print('ID already exist')\n",
    "print('Product has successfully deleted')"
   ]
  },
  {
   "cell_type": "code",
   "execution_count": 108,
   "metadata": {},
   "outputs": [
    {
     "name": "stdout",
     "output_type": "stream",
     "text": [
      "1 Nikon D5100 Camera 250.0 Eindhoven 101\n",
      "2 Sony PS4 Electronics 171.0 Eindhoven 101\n",
      "3 Canon Printer 1100 Electronics 75.0 Utrecht 101\n",
      "4 Samsung Galaxy S9 Smartphone 750.0 Rotterdam 102\n",
      "5 Phillips Speaker Electronics 123.0 Amsterdam 102\n"
     ]
    }
   ],
   "source": [
    "#Check if product is in there\n",
    "resp = requests.get('http://localhost:3000/markplaats/rest/markplaats/products/all')\n",
    "if resp.status_code != 200:\n",
    "    #Something wrong\n",
    "    raise ApiError('GET /products/ {}'.format(resp.status_code))\n",
    "for todo_item in resp.json():\n",
    "    print('{} {} {} {} {} {}'.format(todo_item['id'], todo_item['name'], todo_item['category'], todo_item['price'], todo_item['city'], todo_item['seller_id']))"
   ]
  },
  {
   "cell_type": "code",
   "execution_count": null,
   "metadata": {},
   "outputs": [],
   "source": []
  }
 ],
 "metadata": {
  "kernelspec": {
   "display_name": "Python 3",
   "language": "python",
   "name": "python3"
  },
  "language_info": {
   "codemirror_mode": {
    "name": "ipython",
    "version": 3
   },
   "file_extension": ".py",
   "mimetype": "text/x-python",
   "name": "python",
   "nbconvert_exporter": "python",
   "pygments_lexer": "ipython3",
   "version": "3.6.5"
  }
 },
 "nbformat": 4,
 "nbformat_minor": 2
}
